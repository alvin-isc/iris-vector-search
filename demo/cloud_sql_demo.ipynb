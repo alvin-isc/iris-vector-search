{
 "cells": [
  {
   "cell_type": "markdown",
   "id": "6d3a14d8",
   "metadata": {},
   "source": [
    "# Vector Search with Cloud SQL"
   ]
  },
  {
   "cell_type": "markdown",
   "id": "b151275e",
   "metadata": {},
   "source": [
    "Please adapt the password and hostname entries in the following cell to match your Cloud SQL deployment."
   ]
  },
  {
   "cell_type": "code",
   "execution_count": null,
   "id": "57149010",
   "metadata": {},
   "outputs": [],
   "source": [
    "username = 'SQLAdmin'\n",
    "password = '...'\n",
    "hostname = '...'\n",
    "port = 443 \n",
    "namespace = 'USER'"
   ]
  },
  {
   "cell_type": "markdown",
   "id": "4d345f4d",
   "metadata": {},
   "source": [
    "## Setting up the SSL configuration\n",
    "\n",
    "SSL configurations for DB-API connections are based on the same infrastructure as ODBC and .NET. That is, they'll look for configuration settings in a `.ini` file specified through the `ISC_SSLconfigurations` environment variable. The following code snippet will check if the file exists and, if it doesn't, set one up for you based on sane defaults for our simple connection scenario."
   ]
  },
  {
   "cell_type": "code",
   "execution_count": null,
   "id": "ccc2eac8",
   "metadata": {},
   "outputs": [],
   "source": [
    "import iris, os\n",
    "\n",
    "# The SSL config name we'll use when connecting\n",
    "sslConfigName = \"CloudSQL\"\n",
    "\n",
    "# Check if the ISC_SSLconfigurations environment variable is set\n",
    "sslConfigFile = os.getenv('ISC_SSLconfigurations')\n",
    "if (sslConfigFile == None):\n",
    "    print(\"ERROR: ISC_SSLconfigurations is not set!\")\n",
    "\n",
    "# if SSL config file does not exist, we can create it\n",
    "if (os.path.exists(sslConfigFile)):\n",
    "    print(\"Found existing SSL config file, assume it's intentional\")\n",
    "else:\n",
    "    certificateFile = (os.path.dirname(sslConfigFile) + \"/certificateSQLaaS.pem\")\n",
    "    ini = \"[%s] \\n\" % sslConfigName\n",
    "    ini += \"CertFile=%s \\n\" % certificateFile\n",
    "    ini += \"KeyType=2 \\n\"\n",
    "    ini += \"Protocols=28 \\n\"\n",
    "    ini += \"CipherList=ALL:!aNULL:!eNULL:!EXP:!SSLv2 \\n\"\n",
    "    ini += \"VerifyPeer=0 \\n\"\n",
    "    ini += \"VerifyDepth=9 \\n\"\n",
    "    with open(sslConfigFile, 'wt') as f:\n",
    "        f.write(ini)\n",
    "    print(\"Wrote new SSLConfigs.ini file\")\n",
    "\n",
    "    if (os.path.exists(certificateFile) == False):\n",
    "        print(\"Please make sure your certificate file is located at '%s' before proceeding\" % certificateFile)"
   ]
  },
  {
   "cell_type": "markdown",
   "id": "d199a694",
   "metadata": {},
   "source": [
    "### Copying the certificate\n",
    "\n",
    "Now that the SSL configurations are in place, make sure the `certificateSQLaaS.pem` file for your Cloud SQL deployment is located at the path described in the previous cell's output (defaults to `/usr/cert-demo/`). You can download the certificate file from your deployment's detail screen. Look for the button that says \"Get X.509 certificate\".\n",
    "\n",
    "Next, you'll have to copy it into the container. Adapt the download location of the certificate and the name of the target container in following command to suit your environment.\n",
    "\n",
    "```Shell\n",
    "docker cp ~/Downloads/certificateSQLaas.pem iris-vector-search-jupyter-1:/usr/cert-demo/\n",
    "```\n",
    "\n",
    "After this finishes, all we need to do is make sure DB-API will pick up the SSL configuration we configured in the `.ini` file, referencing it by name in the optional `sslconfig` argument for `iris.connect()`:"
   ]
  },
  {
   "cell_type": "code",
   "execution_count": null,
   "id": "6adf3bcf",
   "metadata": {},
   "outputs": [],
   "source": [
    "c = iris.connect(hostname, port, namespace, username, password, sslconfig = sslConfigName )"
   ]
  },
  {
   "cell_type": "markdown",
   "id": "99b9f1a8",
   "metadata": {},
   "source": [
    "From now on, this is no different from a regular SQL connection, so we can just move ahead!"
   ]
  }
 ],
 "metadata": {
  "kernelspec": {
   "display_name": "Python 3 (ipykernel)",
   "language": "python",
   "name": "python3"
  },
  "language_info": {
   "codemirror_mode": {
    "name": "ipython",
    "version": 3
   },
   "file_extension": ".py",
   "mimetype": "text/x-python",
   "name": "python",
   "nbconvert_exporter": "python",
   "pygments_lexer": "ipython3",
   "version": "3.9.13"
  }
 },
 "nbformat": 4,
 "nbformat_minor": 5
}
