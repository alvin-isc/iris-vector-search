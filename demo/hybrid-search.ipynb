{
 "cells": [
  {
   "cell_type": "markdown",
   "id": "a5eb6179-9308-41d3-9181-e113263239bf",
   "metadata": {
    "execution": {
     "iopub.execute_input": "2024-12-08T18:39:16.315978Z",
     "iopub.status.busy": "2024-12-08T18:39:16.315563Z",
     "iopub.status.idle": "2024-12-08T18:39:16.323650Z",
     "shell.execute_reply": "2024-12-08T18:39:16.321327Z",
     "shell.execute_reply.started": "2024-12-08T18:39:16.315931Z"
    }
   },
   "source": [
    "# Hybrid search demo"
   ]
  },
  {
   "cell_type": "code",
   "execution_count": 2,
   "id": "2f409408-2828-4d67-bbdc-c47e83e36f07",
   "metadata": {
    "execution": {
     "iopub.execute_input": "2024-12-09T01:46:07.084021Z",
     "iopub.status.busy": "2024-12-09T01:46:07.083057Z",
     "iopub.status.idle": "2024-12-09T01:46:07.462776Z",
     "shell.execute_reply": "2024-12-09T01:46:07.462032Z",
     "shell.execute_reply.started": "2024-12-09T01:46:07.083994Z"
    }
   },
   "outputs": [],
   "source": [
    "import os, pandas as pd\n",
    "from sqlalchemy import create_engine, text"
   ]
  },
  {
   "cell_type": "code",
   "execution_count": 3,
   "id": "58f2a158-d1e7-465f-ae19-7a9475241b0f",
   "metadata": {
    "execution": {
     "iopub.execute_input": "2024-12-09T01:46:09.230475Z",
     "iopub.status.busy": "2024-12-09T01:46:09.230073Z",
     "iopub.status.idle": "2024-12-09T01:46:09.235427Z",
     "shell.execute_reply": "2024-12-09T01:46:09.234145Z",
     "shell.execute_reply.started": "2024-12-09T01:46:09.230453Z"
    }
   },
   "outputs": [],
   "source": [
    "username = 'demo'\n",
    "password = 'demo'\n",
    "hostname = os.getenv('IRIS_HOSTNAME', 'localhost')\n",
    "port = '1972' \n",
    "namespace = 'USER'\n",
    "CONNECTION_STRING = f\"iris://{username}:{password}@{hostname}:{port}/{namespace}\""
   ]
  },
  {
   "cell_type": "code",
   "execution_count": 4,
   "id": "7290c8cb-6846-4c3c-bfc2-e73f7655bc90",
   "metadata": {
    "execution": {
     "iopub.execute_input": "2024-12-09T01:46:10.555180Z",
     "iopub.status.busy": "2024-12-09T01:46:10.554872Z",
     "iopub.status.idle": "2024-12-09T01:46:10.789532Z",
     "shell.execute_reply": "2024-12-09T01:46:10.787602Z",
     "shell.execute_reply.started": "2024-12-09T01:46:10.555157Z"
    }
   },
   "outputs": [],
   "source": [
    "engine = create_engine(CONNECTION_STRING)\n",
    "connection = engine.connect()"
   ]
  },
  {
   "cell_type": "code",
   "execution_count": null,
   "id": "350a6688-7d89-4767-93a0-db21a0fd2a80",
   "metadata": {},
   "outputs": [],
   "source": [
    "## Creating the table\n",
    "\n",
    "run the `sql_demo.ipynb` notebook first"
   ]
  },
  {
   "cell_type": "markdown",
   "id": "598af4da-4683-4f28-ac1a-e0c71f45f992",
   "metadata": {},
   "source": [
    "```SQL\n",
    "LOAD DATA FROM FILE '~/data/scotch_review.csv'\n",
    "        COLUMNS (\n",
    "            id INT,\n",
    "            name VARCHAR(255),\n",
    "            category VARCHAR(255),\n",
    "            review_point INT,\n",
    "            price DOUBLE,\n",
    "            currency VARCHAR(10),\n",
    "            description VARCHAR(2000)\n",
    "        )\n",
    "        INTO hybrid.scotch_reviews (name, category, review_point, price, description)\n",
    "            VALUES (name, category, review_point, price, description)\n",
    "        USING { \"from\" : { \"file\" : { \"header\" : 1 } } }\n",
    "```\n",
    "\n",
    "TODO: fix issue with DB-API parsing and include file in container"
   ]
  },
  {
   "cell_type": "code",
   "execution_count": 5,
   "id": "c923c186-9633-435d-912f-f6d12e3aa34c",
   "metadata": {
    "execution": {
     "iopub.execute_input": "2024-12-09T01:46:18.156540Z",
     "iopub.status.busy": "2024-12-09T01:46:18.155861Z",
     "iopub.status.idle": "2024-12-09T01:46:19.279600Z",
     "shell.execute_reply": "2024-12-09T01:46:19.278914Z",
     "shell.execute_reply.started": "2024-12-09T01:46:18.156514Z"
    }
   },
   "outputs": [],
   "source": [
    "res = connection.execute(text(\"\"\"CREATE INDEX ifind ON scotch_reviews(description) AS %iFind.Index.Basic\"\"\"))"
   ]
  },
  {
   "cell_type": "code",
   "execution_count": 27,
   "id": "1f895a45",
   "metadata": {
    "execution": {
     "iopub.execute_input": "2024-12-09T02:06:58.661796Z",
     "iopub.status.busy": "2024-12-09T02:06:58.660670Z",
     "iopub.status.idle": "2024-12-09T02:07:00.326658Z",
     "shell.execute_reply": "2024-12-09T02:07:00.325512Z",
     "shell.execute_reply.started": "2024-12-09T02:06:58.661759Z"
    }
   },
   "outputs": [],
   "source": [
    "from sentence_transformers import SentenceTransformer\n",
    "\n",
    "model = SentenceTransformer('all-MiniLM-L6-v2') \n",
    "search_vector = model.encode(\"vanilla\", normalize_embeddings=True).tolist()"
   ]
  },
  {
   "cell_type": "code",
   "execution_count": 33,
   "id": "9067cbef-6bed-4c50-ac26-d20882fd96e0",
   "metadata": {
    "execution": {
     "iopub.execute_input": "2024-12-09T02:09:22.749821Z",
     "iopub.status.busy": "2024-12-09T02:09:22.748976Z",
     "iopub.status.idle": "2024-12-09T02:09:22.986805Z",
     "shell.execute_reply": "2024-12-09T02:09:22.985858Z",
     "shell.execute_reply.started": "2024-12-09T02:09:22.749792Z"
    }
   },
   "outputs": [
    {
     "data": {
      "text/html": [
       "<div>\n",
       "<style scoped>\n",
       "    .dataframe tbody tr th:only-of-type {\n",
       "        vertical-align: middle;\n",
       "    }\n",
       "\n",
       "    .dataframe tbody tr th {\n",
       "        vertical-align: top;\n",
       "    }\n",
       "\n",
       "    .dataframe thead th {\n",
       "        text-align: right;\n",
       "    }\n",
       "</style>\n",
       "<table border=\"1\" class=\"dataframe\">\n",
       "  <thead>\n",
       "    <tr style=\"text-align: right;\">\n",
       "      <th></th>\n",
       "      <th>name</th>\n",
       "      <th>category</th>\n",
       "      <th>description</th>\n",
       "      <th>IFindScore</th>\n",
       "      <th>VectorScore</th>\n",
       "      <th>IFindRank</th>\n",
       "      <th>VectorRank</th>\n",
       "      <th>Score</th>\n",
       "    </tr>\n",
       "  </thead>\n",
       "  <tbody>\n",
       "    <tr>\n",
       "      <th>0</th>\n",
       "      <td>Glen Scotia 15 year old, 46%</td>\n",
       "      <td>Single Malt Scotch</td>\n",
       "      <td>This 15 year old has been fully matured in bourbon casks. Relatively reticent on the nose, with light vanilla. Becoming more aromatic and spicy, with tinned apricots in syrup. Medium-bodied, relatively dry, with ginger, oak, and cloves, before a touch of milk chocolate appears. The chocolate darkens. Aniseed and perpetual spice.</td>\n",
       "      <td>0.01918935115485403476</td>\n",
       "      <td>0.449055</td>\n",
       "      <td>8</td>\n",
       "      <td>5</td>\n",
       "      <td>.1222222222222222222</td>\n",
       "    </tr>\n",
       "    <tr>\n",
       "      <th>1</th>\n",
       "      <td>Mortlach, 1997 vintage, 57.1%</td>\n",
       "      <td>Single Malt Scotch</td>\n",
       "      <td>Matured in a bourbon cask. Thick and creamy, with mouth-coating vanilla, ripe barley, toasted marshmallow, vanilla wafer, key lime pie, golden delicious apple, lemongrass, and hay. The vanilla sweetness lingers to the finish, mixing with dried herbs and hay. I was expecting more from a carefully chosen Mortlach, given its pedigree, but this is still nice. (240 bottles) £250</td>\n",
       "      <td>0.008108176544304521734</td>\n",
       "      <td>0.527266</td>\n",
       "      <td>183</td>\n",
       "      <td>1</td>\n",
       "      <td>.0960904380593499765</td>\n",
       "    </tr>\n",
       "    <tr>\n",
       "      <th>2</th>\n",
       "      <td>Lombard Jewels of Scotland (distilled at Springbank) 21 year old 1991 Cask No. 172, 49.7%</td>\n",
       "      <td>Single Malt Scotch</td>\n",
       "      <td>Aged in a bourbon hogshead, allowing the distillery character to shine through. Fresh, lively and inviting (especially for its age), with a complex array of tropical and summer fruit, peppered with brine, vanilla, and a hint of baker’s chocolate. An oily texture adds weight. Dry, deliciously appetizing finish. An excellent aperitif whisky, but enjoyable anytime. (D &amp; M Wines and Liquors exclusive.)</td>\n",
       "      <td>0.03029897550766426542</td>\n",
       "      <td>0.273408</td>\n",
       "      <td>1</td>\n",
       "      <td>504</td>\n",
       "      <td>.0928546162009197029</td>\n",
       "    </tr>\n",
       "    <tr>\n",
       "      <th>3</th>\n",
       "      <td>Dewar’s 18 year old The Vintage, 40%</td>\n",
       "      <td>Blended Scotch Whisky</td>\n",
       "      <td>Vanilla laced with spice, fondant icing, grapefruit peel, and lime zest leave the vanilla and floral notes lower down the pecking order. In the mouth, grapefruit and orange dominate the vanilla, yet the mouthfeel is thinner and the acidity tips toward the taste of bitter orange seeds. A lingering bitter orange finish.</td>\n",
       "      <td>0</td>\n",
       "      <td>0.468414</td>\n",
       "      <td>292</td>\n",
       "      <td>2</td>\n",
       "      <td>.08664459161147902869</td>\n",
       "    </tr>\n",
       "    <tr>\n",
       "      <th>4</th>\n",
       "      <td>Scotch Malt Whisky Society (28:23) 21 year old, 57.5%</td>\n",
       "      <td>Single Malt Scotch</td>\n",
       "      <td>This bottling of Tullibardine was distilled in November 1989 and has been matured in a refill sherry butt. The U.S. allocation is 120 bottles. Initially, damp earth on the nose, sweetening to milk chocolate-covered fudge and vanilla, along with hazelnuts. Notes of plum and black pepper with time. The palate is fruity, with toffee, spice, and cedar wood notes. Long in the finish, with cereal and spicy resin.</td>\n",
       "      <td>0.02677583882072656014</td>\n",
       "      <td>0.288469</td>\n",
       "      <td>2</td>\n",
       "      <td>435</td>\n",
       "      <td>.08558052434456928839</td>\n",
       "    </tr>\n",
       "  </tbody>\n",
       "</table>\n",
       "</div>"
      ],
      "text/plain": [
       "                                                                                        name  \\\n",
       "0                                                               Glen Scotia 15 year old, 46%   \n",
       "1                                                              Mortlach, 1997 vintage, 57.1%   \n",
       "2  Lombard Jewels of Scotland (distilled at Springbank) 21 year old 1991 Cask No. 172, 49.7%   \n",
       "3                                                       Dewar’s 18 year old The Vintage, 40%   \n",
       "4                                      Scotch Malt Whisky Society (28:23) 21 year old, 57.5%   \n",
       "\n",
       "                category  \\\n",
       "0     Single Malt Scotch   \n",
       "1     Single Malt Scotch   \n",
       "2     Single Malt Scotch   \n",
       "3  Blended Scotch Whisky   \n",
       "4     Single Malt Scotch   \n",
       "\n",
       "                                                                                                                                                                                                                                                                                                                                                                                                                   description  \\\n",
       "0                                                                                   This 15 year old has been fully matured in bourbon casks. Relatively reticent on the nose, with light vanilla. Becoming more aromatic and spicy, with tinned apricots in syrup. Medium-bodied, relatively dry, with ginger, oak, and cloves, before a touch of milk chocolate appears. The chocolate darkens. Aniseed and perpetual spice.   \n",
       "1                                     Matured in a bourbon cask. Thick and creamy, with mouth-coating vanilla, ripe barley, toasted marshmallow, vanilla wafer, key lime pie, golden delicious apple, lemongrass, and hay. The vanilla sweetness lingers to the finish, mixing with dried herbs and hay. I was expecting more from a carefully chosen Mortlach, given its pedigree, but this is still nice. (240 bottles) £250   \n",
       "2            Aged in a bourbon hogshead, allowing the distillery character to shine through. Fresh, lively and inviting (especially for its age), with a complex array of tropical and summer fruit, peppered with brine, vanilla, and a hint of baker’s chocolate. An oily texture adds weight. Dry, deliciously appetizing finish. An excellent aperitif whisky, but enjoyable anytime. (D & M Wines and Liquors exclusive.)   \n",
       "3                                                                                              Vanilla laced with spice, fondant icing, grapefruit peel, and lime zest leave the vanilla and floral notes lower down the pecking order. In the mouth, grapefruit and orange dominate the vanilla, yet the mouthfeel is thinner and the acidity tips toward the taste of bitter orange seeds. A lingering bitter orange finish.   \n",
       "4  This bottling of Tullibardine was distilled in November 1989 and has been matured in a refill sherry butt. The U.S. allocation is 120 bottles. Initially, damp earth on the nose, sweetening to milk chocolate-covered fudge and vanilla, along with hazelnuts. Notes of plum and black pepper with time. The palate is fruity, with toffee, spice, and cedar wood notes. Long in the finish, with cereal and spicy resin.    \n",
       "\n",
       "                IFindScore  VectorScore  IFindRank  VectorRank  \\\n",
       "0   0.01918935115485403476     0.449055          8           5   \n",
       "1  0.008108176544304521734     0.527266        183           1   \n",
       "2   0.03029897550766426542     0.273408          1         504   \n",
       "3                        0     0.468414        292           2   \n",
       "4   0.02677583882072656014     0.288469          2         435   \n",
       "\n",
       "                   Score  \n",
       "0   .1222222222222222222  \n",
       "1   .0960904380593499765  \n",
       "2   .0928546162009197029  \n",
       "3  .08664459161147902869  \n",
       "4  .08558052434456928839  "
      ]
     },
     "execution_count": 33,
     "metadata": {},
     "output_type": "execute_result"
    }
   ],
   "source": [
    "sql = text(\"\"\"\n",
    "    WITH \n",
    "    \n",
    "    filtered AS (\n",
    "       SELECT %ID AS ID, * FROM scotch_reviews AS r\n",
    "       WHERE %ID %FIND search_index(ifind, 'vanilla')\n",
    "    ),\n",
    "    \n",
    "    scored AS (\n",
    "       SELECT name, category, description,\n",
    "          hybrid.scotchreviews_ifindrank(ID, 'vanilla') AS IFindScore,\n",
    "          vector_cosine(description_vector, TO_VECTOR(:search_vec ,DOUBLE)) AS VectorScore\n",
    "       FROM filtered\n",
    "    ), \n",
    "    \n",
    "    with_rank AS (\n",
    "       SELECT *,\n",
    "          RANK() OVER (ORDER BY IFindScore DESC) AS IFindRank,\n",
    "          RANK() OVER (ORDER BY VectorScore DESC) AS VectorRank\n",
    "       FROM scored\n",
    "    ),\n",
    "\n",
    "    -- using k = 10\n",
    "    full_score AS (\n",
    "        SELECT *, (1/(IFindRank + 10) + 1/(VectorRank + 10)) AS Score\n",
    "        FROM with_rank\n",
    "    )\n",
    "    \n",
    "    SELECT * \n",
    "    FROM full_score \n",
    "    ORDER BY Score desc\"\"\")\n",
    "\n",
    "result = connection.execute(sql, { \"search_vec\": str(search_vector) }).fetchall()\n",
    "df = pd.DataFrame(result)\n",
    "pd.set_option('display.max_colwidth', None)  # Easier to read description\n",
    "df.head()"
   ]
  }
 ],
 "metadata": {
  "kernelspec": {
   "display_name": "Python 3 (ipykernel)",
   "language": "python",
   "name": "python3"
  },
  "language_info": {
   "codemirror_mode": {
    "name": "ipython",
    "version": 3
   },
   "file_extension": ".py",
   "mimetype": "text/x-python",
   "name": "python",
   "nbconvert_exporter": "python",
   "pygments_lexer": "ipython3",
   "version": "3.11.6"
  }
 },
 "nbformat": 4,
 "nbformat_minor": 5
}
