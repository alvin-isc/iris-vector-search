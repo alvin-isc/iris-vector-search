{
 "cells": [
  {
   "cell_type": "markdown",
   "id": "a5eb6179-9308-41d3-9181-e113263239bf",
   "metadata": {
    "execution": {
     "iopub.execute_input": "2024-12-08T18:39:16.315978Z",
     "iopub.status.busy": "2024-12-08T18:39:16.315563Z",
     "iopub.status.idle": "2024-12-08T18:39:16.323650Z",
     "shell.execute_reply": "2024-12-08T18:39:16.321327Z",
     "shell.execute_reply.started": "2024-12-08T18:39:16.315931Z"
    }
   },
   "source": [
    "# Hybrid search demo\n",
    "\n",
    "Please run the `sql_demo.ipynb` notebook first to populate the `scotch_reviews` table. \n",
    "\n",
    "Alternatively, look at the bottom of this notebook for steps to manually create the table and take advantage of the new `EMBEDDING()` datatype and function.\n",
    "\n",
    "Now, let's establish a connection for use in this notebook."
   ]
  },
  {
   "cell_type": "code",
   "execution_count": 41,
   "id": "58f2a158-d1e7-465f-ae19-7a9475241b0f",
   "metadata": {
    "execution": {
     "iopub.execute_input": "2024-12-09T13:39:36.782854Z",
     "iopub.status.busy": "2024-12-09T13:39:36.773112Z",
     "iopub.status.idle": "2024-12-09T13:39:37.100876Z",
     "shell.execute_reply": "2024-12-09T13:39:37.097403Z",
     "shell.execute_reply.started": "2024-12-09T13:39:36.782235Z"
    }
   },
   "outputs": [],
   "source": [
    "import os, pandas as pd\n",
    "from sqlalchemy import create_engine, text\n",
    "\n",
    "username = 'demo'\n",
    "password = 'demo'\n",
    "hostname = os.getenv('IRIS_HOSTNAME', 'localhost')\n",
    "port = '1972' \n",
    "namespace = 'USER'\n",
    "CONNECTION_STRING = f\"iris://{username}:{password}@{hostname}:{port}/{namespace}\"\n",
    "\n",
    "engine = create_engine(CONNECTION_STRING)\n",
    "connection = engine.connect()"
   ]
  },
  {
   "cell_type": "markdown",
   "id": "360dbd16-777c-4a79-b7ba-f892fd2bb00a",
   "metadata": {},
   "source": [
    "## Adding the full text index\n",
    "\n",
    "Now let's create an iFind (aka [SQL Text Search](https://docs.intersystems.com/irislatest/csp/docbook/DocBook.UI.Page.cls?KEY=GSQLSRCH_txtsrch)) index on our scotch review column using the following command:\n",
    "```SQL\n",
    "CREATE INDEX ifind ON scotch_reviews(description) AS %iFind.Index.Basic\n",
    "```\n",
    "There's a number of options to refine the behaviour of the [iFind index](https://docs.intersystems.com/irislatest/csp/documatic/%25CSP.Documatic.cls?LIBRARY=%25SYS&CLASSNAME=%25iFind.Index.Basic), as well as more advanced (or basic) types wrt the text indexation, but let's stick with this for now."
   ]
  },
  {
   "cell_type": "code",
   "execution_count": 5,
   "id": "c923c186-9633-435d-912f-f6d12e3aa34c",
   "metadata": {
    "execution": {
     "iopub.execute_input": "2024-12-09T01:46:18.156540Z",
     "iopub.status.busy": "2024-12-09T01:46:18.155861Z",
     "iopub.status.idle": "2024-12-09T01:46:19.279600Z",
     "shell.execute_reply": "2024-12-09T01:46:19.278914Z",
     "shell.execute_reply.started": "2024-12-09T01:46:18.156514Z"
    }
   },
   "outputs": [],
   "source": [
    "res = connection.execute(text(\"\"\"CREATE INDEX ifind ON scotch_reviews(description) AS %iFind.Index.Basic\"\"\"))"
   ]
  },
  {
   "cell_type": "markdown",
   "id": "49629218-21a0-4557-b188-34c824785ab5",
   "metadata": {},
   "source": [
    "Creating an index through DDL will automatically build it, so there's nothing extra to do here.\n",
    "\n",
    "Next, we'll need to create a vector for our search string using the same embedding model used for populating the `description_vector` column in our table."
   ]
  },
  {
   "cell_type": "code",
   "execution_count": 27,
   "id": "1f895a45",
   "metadata": {
    "execution": {
     "iopub.execute_input": "2024-12-09T02:06:58.661796Z",
     "iopub.status.busy": "2024-12-09T02:06:58.660670Z",
     "iopub.status.idle": "2024-12-09T02:07:00.326658Z",
     "shell.execute_reply": "2024-12-09T02:07:00.325512Z",
     "shell.execute_reply.started": "2024-12-09T02:06:58.661759Z"
    }
   },
   "outputs": [],
   "source": [
    "from sentence_transformers import SentenceTransformer\n",
    "\n",
    "model = SentenceTransformer('all-MiniLM-L6-v2') \n",
    "search_vector = model.encode(\"vanilla\", normalize_embeddings=True).tolist()"
   ]
  },
  {
   "cell_type": "markdown",
   "id": "8f25f84e-663a-4fcc-ab2c-9a3c2608ff31",
   "metadata": {},
   "source": [
    "\n",
    "\n",
    "And now we can start building our hybrid search query:"
   ]
  },
  {
   "cell_type": "code",
   "execution_count": null,
   "id": "9067cbef-6bed-4c50-ac26-d20882fd96e0",
   "metadata": {},
   "outputs": [],
   "source": [
    "sql = text(\"\"\"\n",
    "    WITH \n",
    "    \n",
    "    filtered_text AS (\n",
    "       SELECT %ID AS ID, * FROM scotch_reviews\n",
    "       WHERE %ID %FIND search_index(ifind, 'vanilla')\n",
    "    ),\n",
    "\n",
    "    filtered_vec AS (\n",
    "        SELECT TOP 100 %ID AS ID, * FROM scotch_reviews\n",
    "        ORDER BY vector_cosine(description_vector, TO_VECTOR(:search_vec ,DOUBLE)) DESC\n",
    "    ),\n",
    "    \n",
    "    scored AS (\n",
    "       SELECT name, category, description,\n",
    "          hybrid.scotchreviews_ifindrank(ID, 'vanilla') AS IFindScore,\n",
    "          vector_cosine(description_vector, TO_VECTOR(:search_vec ,DOUBLE)) AS VectorScore\n",
    "       FROM filtered_text\n",
    "    ), \n",
    "    \n",
    "    with_rank AS (\n",
    "       SELECT *,\n",
    "          RANK() OVER (ORDER BY IFindScore DESC) AS IFindRank,\n",
    "          RANK() OVER (ORDER BY VectorScore DESC) AS VectorRank\n",
    "       FROM scored\n",
    "    ),\n",
    "\n",
    "    -- using k = 10\n",
    "    full_score AS (\n",
    "        SELECT *, (1/(IFindRank + 10) + 1/(VectorRank + 10)) AS Score\n",
    "        FROM with_rank\n",
    "    )\n",
    "    \n",
    "    SELECT TOP 10 * \n",
    "    FROM full_score \n",
    "    ORDER BY Score desc\"\"\")\n",
    "\n",
    "# TODO: sort out annoying DB-API parameter bug\n",
    "\n",
    "result = connection.execute(sql, { \"search_vec\": str(search_vector) }).fetchall()\n",
    "df = pd.DataFrame(result)\n",
    "pd.set_option('display.max_colwidth', None)  # Easier to read description\n",
    "df.head()"
   ]
  },
  {
   "cell_type": "markdown",
   "id": "f8f94c22-0f18-407c-bbd1-6d75268f2e30",
   "metadata": {},
   "source": [
    "\r\n",
    "## Creating the table manually\r\n",
    "\r\n",
    "If you're of the more adventurous type, why not create everything from scratch using the most recent `EMBEDDING()` datatype and function ([documented here](https://docs.intersystems.com/irislatest/csp/docbook/DocBook.UI.Page.cls?KEY=GSQL_vecsearch#GSQL_vecsearch_insembed))?\r\n",
    "To do so, we'll first need to create an embedding configuration, which we can then refer to when creating our column. Embedding configurations are simple SQL rows in the `%Embedding.Config` table:\r\n",
    "\r\n",
    "```SQL\r\n",
    "INSERT INTO %Embedding.Config (Name, EmbeddingClass, Configuration, VectorLength, Description) \r\n",
    "    VALUES ('my-sentence-transformers', '%Embedding.SentenceTransformers', '{\"modelName\": \"all-MiniLM-L6-v2\"}', 384, 'SentenceTransformers \"all-MiniLM-L6-v2\" model')\r\n",
    "```\r\n",
    "\r\n",
    "Now create the table and load the data:\r\n",
    "\r\n",
    "```SQL\r\n",
    "CREATE TABLE hybrid.scotch_reviews (\r\n",
    "    name VARCHAR(255),\r\n",
    "    category VARCHAR(255),\r\n",
    "    review_point INT,\r\n",
    "    price DOUBLE,\r\n",
    "    currency VARCHAR(10),\r\n",
    "    description VARCHAR(2000),\r\n",
    "    description_embedding EMBBEDDING('description', 'my-sentence-transformers')\r\n",
    ")\r\n",
    "\r\n",
    "LOAD DATA FROM/tmp'~/data/scotch_review.csv'\r\n",
    "        COLUMNS (\r\n",
    "            id INT,\r\n",
    "            name VARCHAR(255),\r\n",
    "            category VARCHAR(255),\r\n",
    "            review_point INT,\r\n",
    "            price DOUBLE,\r\n",
    "            currency VARCHAR(10),\r\n",
    "            description VARCHAR(2000)\r\n",
    "        )\r\n",
    "        INTO hybrid.scotch_reviews (name, category, review_point, price, description)\r\n",
    "            VALUES (name, category, review_point, price, description)\r\n",
    "        USING { \"from\" : { \"file\" : { \"header\" : 1 } } } \r\n",
    "```\r\n",
    "\r\n",
    "Depending on how you mounted this demo, you may need to copy the data file to load from into the container for the `LOAD DATA` command to work:\r\n",
    "```Shell\r\n",
    "docker cp ./data/scotch_review.csv iris-vector-search-iris-1:/tmp/\r\n",
    "```\r\n",
    "\r\n",
    "Now we can create our iFind index, and if you are on 2025.1, you can also add an Approximate Nearest Neighbour index:\r\n",
    "```SQL\r\n",
    "CREATE INDEX ifind ON hybrid.scotch_reviews(description) AS %iFind.Index.Basic;\r\n",
    "\r\n",
    "-- only on 2025.1!\r\n",
    "CREATE INDEX hnsw ON hybrid.scotch_reviews(description_emb) AS HNSW;\r\n",
    "```\r\n",
    "\r\n",
    "And now our query becomes (note the small changes in table and embedding column names):\r\n",
    "```SQL\r\n",
    "WITH \r\n",
    "\r\n",
    "filtered_text AS (\r\n",
    "   SELECT %ID AS ID, * FROM hybrid.scotch_reviews\r\n",
    "   WHERE %ID %FIND search_index(ifind, 'vanilla')\r\n",
    "),\r\n",
    "\r\n",
    "filtered_vec AS (\r\n",
    "    SELECT TOP 100 %ID AS ID, * FROM hybrid.scotch_reviews\r\n",
    "    ORDER BY vector_cosine(description_emb, EMBEDDING('vanilla')) DESC\r\n",
    "),\r\n",
    "\r\n",
    "scored AS (\r\n",
    "   SELECT name, category, description,\r\n",
    "      hybrid.scotchreviews_ifindrank(ID, 'vanilla') AS IFindScore,\r\n",
    "      vector_cosine(description_emb, EMBEDDING('vanilla')) AS VectorScore\r\n",
    "   FROM filtered_text\r\n",
    "), \r\n",
    "\r\n",
    "with_rank AS (\r\n",
    "   SELECT *,\r\n",
    "      RANK() OVER (ORDER BY IFindScore DESC) AS IFindRank,\r\n",
    "      RANK() OVER (ORDER BY VectorScore DESC) AS VectorRank\r\n",
    "   FROM scored\r\n",
    "),\r\n",
    "\r\n",
    "-- using k = 10\r\n",
    "full_score AS (\r\n",
    "    SELECT *, (1/(IFindRank + 10) + 1/(VectorRank + 10)) AS Score\r\n",
    "    FROM with_rank\r\n",
    ")\r\n",
    "\r\n",
    "SELECT TOP 10 * \r\n",
    "FROM full_score \r\n",
    "ORDER BY Score desc\r\n",
    "```"
   ]
  }
 ],
 "metadata": {
  "kernelspec": {
   "display_name": "Python 3 (ipykernel)",
   "language": "python",
   "name": "python3"
  },
  "language_info": {
   "codemirror_mode": {
    "name": "ipython",
    "version": 3
   },
   "file_extension": ".py",
   "mimetype": "text/x-python",
   "name": "python",
   "nbconvert_exporter": "python",
   "pygments_lexer": "ipython3",
   "version": "3.11.6"
  }
 },
 "nbformat": 4,
 "nbformat_minor": 5
}
