{
 "cells": [
  {
   "cell_type": "markdown",
   "id": "6d3a14d8",
   "metadata": {},
   "source": [
    "# Vector Search with Cloud SQL"
   ]
  },
  {
   "cell_type": "markdown",
   "id": "b151275e",
   "metadata": {},
   "source": [
    "In this notebook, we'll leverage the Vector Search capabilities available in [InterSystems IRIS Cloud SQL](https://developer.intersystems.com/products/iris-cloud-sql-integratedml/). The feature works in exactly the same way as in the InterSystems IRIS 2024.1 release, but Cloud SQL requires secure connections, and this notebook illustrates how to set those up.\n",
    "\n",
    "First, please adapt the password and hostname entries in the following cell to match your Cloud SQL deployment."
   ]
  },
  {
   "cell_type": "code",
   "execution_count": null,
   "id": "57149010",
   "metadata": {},
   "outputs": [],
   "source": [
    "username = 'SQLAdmin'\n",
    "password = '...'\n",
    "hostname = '...'\n",
    "port = 443 \n",
    "namespace = 'USER'"
   ]
  },
  {
   "cell_type": "markdown",
   "id": "4d345f4d",
   "metadata": {},
   "source": [
    "## Setting up the SSL configuration\n",
    "\n",
    "SSL configurations for DB-API connections are based on the same infrastructure as ODBC and .NET. That is, they'll look for configuration settings in a `.ini` file specified through the `ISC_SSLconfigurations` environment variable. In the demo container, this environment variable points to `/usr/cert-demo/SSLConfigs.ini`, which includes all the settings required for establishing a secure connection:\n",
    "\n",
    "    ```\n",
    "    [CloudSQL] \n",
    "    CertFile=/usr/cert-demo/certificateSQLaaS.pem \n",
    "    KeyType=2 \n",
    "    Protocols=28 \n",
    "    CipherList=ALL:!aNULL:!eNULL:!EXP:!SSLv2 \n",
    "    VerifyPeer=0 \n",
    "    VerifyDepth=9 \n",
    "    ```\n",
    "\n",
    "The following code snippet is somewhat redundant, but if you're running this notebook somewhere else it may come in handy to set up the SSL configuration file for you."
   ]
  },
  {
   "cell_type": "code",
   "execution_count": null,
   "id": "ccc2eac8",
   "metadata": {},
   "outputs": [],
   "source": [
    "import os\n",
    "\n",
    "# The SSL config name we'll use when connecting\n",
    "sslConfigName = \"CloudSQL\"\n",
    "\n",
    "sslConfigFile = os.getenv('ISC_SSLconfigurations')\n",
    "if (sslConfigFile == None):\n",
    "    print(\"ERROR: ISC_SSLconfigurations is not set!\")\n",
    "\n",
    "# if SSL config file does not exist, create it\n",
    "if (os.path.exists(sslConfigFile)):\n",
    "    print(\"Found existing SSL config file, assume it's intentional\")\n",
    "else:\n",
    "    certificateFile = (os.path.dirname(sslConfigFile) + \"/certificateSQLaaS.pem\")\n",
    "    ini = \"[%s] \\n\" % sslConfigName\n",
    "    ini += \"CertFile=%s \\n\" % certificateFile\n",
    "    ini += \"KeyType=2 \\n\"\n",
    "    ini += \"Protocols=28 \\n\"\n",
    "    ini += \"CipherList=ALL:!aNULL:!eNULL:!EXP:!SSLv2 \\n\"\n",
    "    ini += \"VerifyPeer=0 \\n\"\n",
    "    ini += \"VerifyDepth=9 \\n\"\n",
    "    with open(sslConfigFile, 'wt') as f:\n",
    "        f.write(ini)\n",
    "    print(\"Wrote new SSLConfigs.ini file\")\n",
    "\n",
    "    if (os.path.exists(certificateFile) == False):\n",
    "        print(\"Please make sure your certificate file is located at '%s' before proceeding\" % certificateFile)"
   ]
  },
  {
   "cell_type": "markdown",
   "id": "d199a694",
   "metadata": {},
   "source": [
    "### Copying the certificate\n",
    "\n",
    "Now that the SSL configurations are in place, make sure the `certificateSQLaaS.pem` file for your Cloud SQL deployment is located at the path described in the previous cell's output (defaults to `/usr/cert-demo/`). You can download the certificate file from your deployment's detail screen. Look for the button that says \"Get X.509 certificate\".\n",
    "\n",
    "Next, you'll have to copy it into the container. Adapt the download location of the certificate and the name of the target container in following command to suit your environment.\n",
    "\n",
    "```Shell\n",
    "docker cp ~/Downloads/certificateSQLaaS.pem iris-vector-search-jupyter-1:/usr/cert-demo/certificateSQLaaS.pem\n",
    "```\n",
    "\n",
    "We'll use [simple DB-API commands](https://docs.intersystems.com/irislatest/csp/docbook/DocBook.UI.Page.cls?KEY=BPYNAT_pyapi#BPYNAT_pyapi_impl_conn) to demonstrate how to establish a connection in this example:"
   ]
  },
  {
   "cell_type": "code",
   "execution_count": null,
   "id": "6adf3bcf",
   "metadata": {},
   "outputs": [],
   "source": [
    "import iris\n",
    "\n",
    "connection = iris.connect( hostname, port, namespace, username, password, sslconfig = \"CloudSQL\" )\n",
    "cursor = connection.cursor()\n",
    "\n",
    "cursor.execute(\"SELECT 'hello secure world!'\")\n",
    "cursor.fetchone()[0]"
   ]
  },
  {
   "cell_type": "markdown",
   "id": "b0b756b6",
   "metadata": {},
   "source": [
    "## And now load them into Cloud SQL\n",
    "\n",
    "We'll first create a table and then ingest all the rows from the dataframe we created earlier."
   ]
  },
  {
   "cell_type": "code",
   "execution_count": null,
   "id": "d19c1ab7",
   "metadata": {},
   "outputs": [],
   "source": [
    "cursor.execute('DROP TABLE IF EXISTS scotch_reviews')\n",
    "cursor.execute(f\"\"\"CREATE TABLE scotch_reviews (\n",
    "                    name VARCHAR(255),\n",
    "                    category VARCHAR(255),\n",
    "                    review_point INT,\n",
    "                    price DOUBLE,\n",
    "                    description VARCHAR(2000),\n",
    "                    description_vector VECTOR(DOUBLE, 384)\n",
    "                )\"\"\")\n",
    "\n",
    "seq = []\n",
    "for index, row in df.iterrows():\n",
    "    seq.append((row['name'], row['category'], row['review.point'], row['price'], row['description'], str(row['description_vector'])))\n",
    "\n",
    "success = cursor.executemany(\"INSERT INTO scotch_reviews (name, category, review_point, price, description, description_vector) VALUES (?, ?, ?, ?, ?, TO_VECTOR(?))\", seq)\n"
   ]
  }
 ],
 "metadata": {
  "kernelspec": {
   "display_name": "Python 3 (ipykernel)",
   "language": "python",
   "name": "python3"
  },
  "language_info": {
   "codemirror_mode": {
    "name": "ipython",
    "version": 3
   },
   "file_extension": ".py",
   "mimetype": "text/x-python",
   "name": "python",
   "nbconvert_exporter": "python",
   "pygments_lexer": "ipython3",
   "version": "3.9.13"
  }
 },
 "nbformat": 4,
 "nbformat_minor": 5
}
